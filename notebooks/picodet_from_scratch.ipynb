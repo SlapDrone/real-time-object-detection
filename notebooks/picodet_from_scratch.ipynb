{
 "cells": [
  {
   "cell_type": "markdown",
   "id": "3ef6bdf0",
   "metadata": {},
   "source": [
    "# picodet from scratch"
   ]
  },
  {
   "cell_type": "code",
   "execution_count": 1,
   "id": "c17ea0a6",
   "metadata": {},
   "outputs": [],
   "source": [
    "import sys\n",
    "from pathlib import Path\n",
    "from typing import Sequence, Optional, Union\n",
    "sys.path.insert(0, \"..\")\n",
    "\n",
    "import numpy as np\n",
    "import torch\n",
    "import torch.nn as nn\n",
    "from pydantic.dataclasses import dataclass\n",
    "from pydantic import Field\n",
    "from mmcv.cnn import ConvModule\n",
    "from mmdet.models.utils import make_divisible\n",
    "from mmcv.runner import BaseModule\n",
    "\n",
    "from src.esnet import ESNet\n",
    "from src.csppan import ChannelEqualiser, DarknetBottleneck, CSPLayer, CSPPAN\n",
    "from src.picodet_head import PicoDetHead"
   ]
  },
  {
   "cell_type": "markdown",
   "id": "12f2aed1",
   "metadata": {},
   "source": [
    "## Backbone: ESNet"
   ]
  },
  {
   "cell_type": "code",
   "execution_count": 2,
   "id": "eee5d6ae",
   "metadata": {},
   "outputs": [
    {
     "name": "stdout",
     "output_type": "stream",
     "text": [
      "[2, 9, 12]\n"
     ]
    },
    {
     "name": "stderr",
     "output_type": "stream",
     "text": [
      "/root/.cache/pypoetry/virtualenvs/dev-sZr6PvLR-py3.9/lib/python3.9/site-packages/mmcv/cnn/bricks/hsigmoid.py:31: UserWarning: In MMCV v1.4.4, we modified the default value of args to align with PyTorch official. Previous Implementation: Hsigmoid(x) = min(max((x + 1) / 2, 0), 1). Current Implementation: Hsigmoid(x) = min(max((x + 3) / 6, 0), 1).\n",
      "  warnings.warn(\n"
     ]
    }
   ],
   "source": [
    "esnet = ESNet()\n",
    "print(esnet.out_ixs)"
   ]
  },
  {
   "cell_type": "code",
   "execution_count": 3,
   "id": "abbf5657",
   "metadata": {},
   "outputs": [
    {
     "name": "stdout",
     "output_type": "stream",
     "text": [
      "[torch.Size([1, 96, 40, 40]), torch.Size([1, 192, 20, 20]), torch.Size([1, 384, 10, 10])]\n"
     ]
    }
   ],
   "source": [
    "esnet.stage_out_channels\n",
    "test_input = torch.from_numpy(np.random.rand(1, 3, 320, 320).astype(np.float32))\n",
    "test_outputs = esnet(test_input)\n",
    "print([a.shape for a in test_outputs])"
   ]
  },
  {
   "cell_type": "markdown",
   "id": "def6ae8f",
   "metadata": {},
   "source": [
    "TODO: Factor inverted residual blocks into this codebase"
   ]
  },
  {
   "cell_type": "markdown",
   "id": "c4eb3d4b",
   "metadata": {},
   "source": [
    "## Neck: CSPPAN"
   ]
  },
  {
   "cell_type": "code",
   "execution_count": 4,
   "id": "68e4558b",
   "metadata": {},
   "outputs": [
    {
     "name": "stdout",
     "output_type": "stream",
     "text": [
      "[torch.Size([1, 128, 40, 40]), torch.Size([1, 128, 20, 20]), torch.Size([1, 128, 10, 10])]\n"
     ]
    }
   ],
   "source": [
    "c = ChannelEqualiser([96, 192, 384], 128)\n",
    "channel_eq_outputs = c(test_outputs)\n",
    "print([c.shape for c in channel_eq_outputs])"
   ]
  },
  {
   "cell_type": "code",
   "execution_count": 5,
   "id": "e0e270a6",
   "metadata": {},
   "outputs": [
    {
     "name": "stdout",
     "output_type": "stream",
     "text": [
      "torch.Size([1, 32, 100, 100])\n"
     ]
    }
   ],
   "source": [
    "test_input = torch.from_numpy(np.random.rand(1, 32, 100, 100).astype(np.float32))\n",
    "dbb = DarknetBottleneck(in_channels=32, out_channels=32)\n",
    "dbb_output = dbb(test_input)\n",
    "print(dbb_output.shape)"
   ]
  },
  {
   "cell_type": "code",
   "execution_count": 6,
   "id": "0be0453f",
   "metadata": {},
   "outputs": [
    {
     "name": "stdout",
     "output_type": "stream",
     "text": [
      "torch.Size([1, 32, 100, 100])\n"
     ]
    }
   ],
   "source": [
    "cspl = CSPLayer(32, 32)\n",
    "cspl_output = cspl(test_input)\n",
    "print(cspl_output.shape)"
   ]
  },
  {
   "cell_type": "code",
   "execution_count": 7,
   "id": "00104fda",
   "metadata": {},
   "outputs": [
    {
     "name": "stdout",
     "output_type": "stream",
     "text": [
      "[torch.Size([1, 96, 40, 40]), torch.Size([1, 96, 20, 20]), torch.Size([1, 96, 10, 10]), torch.Size([1, 96, 5, 5])]\n"
     ]
    }
   ],
   "source": [
    "csppan = CSPPAN(\n",
    "    in_channels=[96, 192, 384],\n",
    "    act_cfg=dict(type='HSwish'),\n",
    "    norm_cfg=dict(type='BN', requires_grad=True),\n",
    "    out_channels=96,\n",
    "    squeeze_ratio=1,\n",
    "    num_csp_blocks=1\n",
    ")\n",
    "csppan_outputs = csppan(test_outputs)\n",
    "print([t.shape for t in csppan_outputs])"
   ]
  },
  {
   "cell_type": "code",
   "execution_count": 8,
   "id": "5061e996",
   "metadata": {},
   "outputs": [
    {
     "data": {
      "text/plain": [
       "tuple"
      ]
     },
     "execution_count": 8,
     "metadata": {},
     "output_type": "execute_result"
    }
   ],
   "source": [
    "type(csppan_outputs)"
   ]
  },
  {
   "cell_type": "markdown",
   "id": "e983cd88",
   "metadata": {},
   "source": [
    "## Head: PicoDetHead"
   ]
  },
  {
   "cell_type": "code",
   "execution_count": 14,
   "id": "ee28bb83",
   "metadata": {},
   "outputs": [
    {
     "name": "stdout",
     "output_type": "stream",
     "text": [
      "torch.Size([1, 80, 40, 40]) torch.Size([1, 32, 40, 40])\n",
      "torch.Size([1, 80, 20, 20]) torch.Size([1, 32, 20, 20])\n",
      "torch.Size([1, 80, 10, 10]) torch.Size([1, 32, 10, 10])\n",
      "torch.Size([1, 80, 5, 5]) torch.Size([1, 32, 5, 5])\n"
     ]
    }
   ],
   "source": [
    "h = PicoDetHead(in_channels=96, num_classes=80)\n",
    "\n",
    "head_outputs = h.forward(csppan_outputs)\n",
    "\n",
    "for cls_score, bbox_pred in head_outputs:\n",
    "    print(cls_score.shape, bbox_pred.shape)"
   ]
  },
  {
   "cell_type": "code",
   "execution_count": null,
   "id": "8e9b3d58",
   "metadata": {},
   "outputs": [],
   "source": []
  }
 ],
 "metadata": {
  "kernelspec": {
   "display_name": "Python 3 (ipykernel)",
   "language": "python",
   "name": "python3"
  },
  "language_info": {
   "codemirror_mode": {
    "name": "ipython",
    "version": 3
   },
   "file_extension": ".py",
   "mimetype": "text/x-python",
   "name": "python",
   "nbconvert_exporter": "python",
   "pygments_lexer": "ipython3",
   "version": "3.9.5"
  }
 },
 "nbformat": 4,
 "nbformat_minor": 5
}
